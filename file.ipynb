{
  "nbformat": 4,
  "nbformat_minor": 0,
  "metadata": {
    "colab": {
      "name": "file.ipynb",
      "provenance": [],
      "collapsed_sections": [],
      "authorship_tag": "ABX9TyOtsQngsiHyvWtm8tetNv8Q",
      "include_colab_link": true
    },
    "kernelspec": {
      "name": "python3",
      "display_name": "Python 3"
    },
    "language_info": {
      "name": "python"
    }
  },
  "cells": [
    {
      "cell_type": "markdown",
      "metadata": {
        "id": "view-in-github",
        "colab_type": "text"
      },
      "source": [
        "<a href=\"https://colab.research.google.com/github/cownow4425/Python-for-AI/blob/master/file.ipynb\" target=\"_parent\"><img src=\"https://colab.research.google.com/assets/colab-badge.svg\" alt=\"Open In Colab\"/></a>"
      ]
    },
    {
      "cell_type": "markdown",
      "metadata": {
        "id": "wzM__mjOoJWd"
      },
      "source": [
        "파이썬은 파일 처리를 위해 \"open\"키워드를 사용함\n"
      ]
    },
    {
      "cell_type": "code",
      "metadata": {
        "id": "ht_edPAxoFJ8"
      },
      "source": [
        "f = open(\"<파일이름>\", \"접근 모드\")\n",
        "f.close()"
      ],
      "execution_count": null,
      "outputs": []
    },
    {
      "cell_type": "markdown",
      "metadata": {
        "id": "jTsrJDLSoVWN"
      },
      "source": [
        "접근 모드에는 다음과 같은 것들이 존재\n",
        "- r: 읽기모드 - 파일을 읽기만 할 때 사용\n",
        "- w: 쓰기모드 - 파일에 내용을 쓸 때 사용\n",
        "- a: 추가모드 - 파일의 마지막에 새로운 내용을 추가시킬 때 사용"
      ]
    },
    {
      "cell_type": "code",
      "metadata": {
        "id": "tmCb6DcysWL1"
      },
      "source": [
        "f = open(\"i_have_a_dream.txt\", \"r\") #대상 파일이 같은 폴더에 존재할 경우(상대 참조)\n",
        "contents = f.read()\n",
        "print(contents)\n",
        "f.close()"
      ],
      "execution_count": null,
      "outputs": []
    },
    {
      "cell_type": "code",
      "metadata": {
        "id": "AP07fz7gsXrh"
      },
      "source": [
        "#with 구문과 같이 사용 시, indentation이 끝나는 지점에 close()가 실행된다고 보면 됨.\n",
        "with open(\"i_have_a_dream.txt\", \"r\") as my_file:\n",
        "  contents = my_file.read()\n",
        "  print(type(contents), contents)"
      ],
      "execution_count": null,
      "outputs": []
    },
    {
      "cell_type": "code",
      "metadata": {
        "id": "MnjP42vDsp11"
      },
      "source": [
        "#readlines(): 한 줄씩 읽어오기\n",
        "with open(\"i_have_a_dream\", \"r\") as f:\n",
        "  content_list = f.readlines()\n",
        "type(content_list)\n",
        "print(content_list[0])"
      ],
      "execution_count": null,
      "outputs": []
    },
    {
      "cell_type": "code",
      "metadata": {
        "id": "yDzO0u6utmju"
      },
      "source": [
        "#readline(): 실행 시 마다 한 줄씩 읽어 오기\n",
        "with open(\"i_have_a_dream\", \"r\") as my_file:\n",
        "  i = 0\n",
        "  while True:\n",
        "    line = my_file.readline()\n",
        "    if not line:\n",
        "      break\n",
        "    print(str(i) + \"===\" + line.replace(\"\\n\", \"\")) #한 줄씩 값 출력\n",
        "    i = i + 1"
      ],
      "execution_count": null,
      "outputs": []
    },
    {
      "cell_type": "code",
      "metadata": {
        "id": "kCtiJbX3uo8x"
      },
      "source": [
        "#character, word, line 개수 세기\n",
        "with open(\"i_have_a_dream\", \"r\") as my_file:\n",
        "  contents = my_file.read()\n",
        "  word_list = contents.split(\" \")\n",
        "  line_list = contents.split(\"\\n\")\n",
        "\n",
        "print(\"Total Number of Characters : \", len(contents))\n",
        "print(\"Total Number of Words : \", len(word_list))\n",
        "print(\"Total Number of Lines : \", len(line_list))"
      ],
      "execution_count": null,
      "outputs": []
    },
    {
      "cell_type": "code",
      "metadata": {
        "id": "o9BgVEsLvdsT"
      },
      "source": [
        "f = open(\"count_log.txt\", mode=\"w\", encoding=\"utf8\")\n",
        "for i in range(1, 11):\n",
        "  data = \"{0}번째 줄입니다.\\n\".format(i)\n",
        "  f.write(data)\n",
        "f.close()"
      ],
      "execution_count": null,
      "outputs": []
    },
    {
      "cell_type": "code",
      "metadata": {
        "id": "qIpWtQSHwfSo"
      },
      "source": [
        "with open(\"count_log.txt\", mode=\"a\", encoding=\"utf8\") as f:\n",
        "  for i in range(11, 21):\n",
        "    data = \"{0}번째 줄입니다.\\n\".format(i)\n",
        "    f.write(data)"
      ],
      "execution_count": null,
      "outputs": []
    },
    {
      "cell_type": "markdown",
      "metadata": {
        "id": "Mf-IxCcpxyC6"
      },
      "source": [
        "OS module"
      ]
    },
    {
      "cell_type": "code",
      "metadata": {
        "id": "SPK4h5S1w8_e"
      },
      "source": [
        "import os\n",
        "os.mkdir(\"log\")"
      ],
      "execution_count": null,
      "outputs": []
    },
    {
      "cell_type": "code",
      "metadata": {
        "id": "lUUC_lV0x-hA"
      },
      "source": [
        "try:\n",
        "  os.mkdir(\"abc\")\n",
        "except FileExistsError as e:\n",
        "  print(\"Already created\")"
      ],
      "execution_count": null,
      "outputs": []
    },
    {
      "cell_type": "code",
      "metadata": {
        "colab": {
          "base_uri": "https://localhost:8080/"
        },
        "id": "KIxw71eJyYMe",
        "outputId": "0b7e267a-e6dc-4738-cb08-d69fb2528e0a"
      },
      "source": [
        "os.path.isfile(\"file.ipynb\")"
      ],
      "execution_count": null,
      "outputs": [
        {
          "output_type": "execute_result",
          "data": {
            "text/plain": [
              "False"
            ]
          },
          "metadata": {},
          "execution_count": 11
        }
      ]
    },
    {
      "cell_type": "code",
      "metadata": {
        "id": "ShMFfX-wydaL"
      },
      "source": [
        "  import shutil\n",
        "\n",
        "  source = \"i_have_a_dream.txt\"\n",
        "  dest = os.path.join(\"abc\", \"i_have_a_dream_abc.txt\")\n",
        "  shutil.copy(source, dest) #shutil.copy : 파일 복사 함수"
      ],
      "execution_count": null,
      "outputs": []
    },
    {
      "cell_type": "code",
      "metadata": {
        "id": "vUD0q-7FzWxZ"
      },
      "source": [
        "import pathlib"
      ],
      "execution_count": null,
      "outputs": []
    },
    {
      "cell_type": "code",
      "metadata": {
        "colab": {
          "base_uri": "https://localhost:8080/"
        },
        "id": "DYDKw7x-zt5l",
        "outputId": "416b609c-5ce6-477a-fe96-dab5a53aba05"
      },
      "source": [
        "cwd = pathlib.Path.cwd()\n",
        "print(cwd)"
      ],
      "execution_count": null,
      "outputs": [
        {
          "output_type": "stream",
          "name": "stdout",
          "text": [
            "/content\n"
          ]
        }
      ]
    },
    {
      "cell_type": "code",
      "metadata": {
        "colab": {
          "base_uri": "https://localhost:8080/"
        },
        "id": "LelzVUl9z_Tx",
        "outputId": "dcdea871-dd26-4677-f848-505ca24ce2ce"
      },
      "source": [
        "cwd.parent"
      ],
      "execution_count": null,
      "outputs": [
        {
          "output_type": "execute_result",
          "data": {
            "text/plain": [
              "PosixPath('/')"
            ]
          },
          "metadata": {},
          "execution_count": 16
        }
      ]
    },
    {
      "cell_type": "code",
      "metadata": {
        "colab": {
          "base_uri": "https://localhost:8080/"
        },
        "id": "IIlAzUo00IBx",
        "outputId": "69b0475c-6578-4715-daa2-5074ae6ddedb"
      },
      "source": [
        "cwd.parent.parent"
      ],
      "execution_count": null,
      "outputs": [
        {
          "output_type": "execute_result",
          "data": {
            "text/plain": [
              "PosixPath('/')"
            ]
          },
          "metadata": {},
          "execution_count": 17
        }
      ]
    },
    {
      "cell_type": "code",
      "metadata": {
        "id": "V5EmYX9B7ITu"
      },
      "source": [
        "import os\n",
        "\n",
        "if not os.path.exists(\"log\"):\n",
        "  os.mkdir(\"log\")\n",
        "\n",
        "TARGET_FILE_PATH = os.path.join(\"log\", \"count_log.txt\")\n",
        "if not os.path.exists(TARGET_FILE_PATH):\n",
        "  f = open(\"log/count_log.txt\", \"w\", encoding=\"utf8\")\n",
        "  f.write(\"기록이 시작됩니다\\n\")\n",
        "  f.close()"
      ],
      "execution_count": null,
      "outputs": []
    },
    {
      "cell_type": "code",
      "metadata": {
        "id": "r1r4yluF7v-b"
      },
      "source": [
        "with open(TARGET_FILE_PATH, \"a\", encoding=\"utf8\") as f:\n",
        "  import random, datetime\n",
        "  for i in range(1, 11):\n",
        "    stamp = str(datetime.datetime.now())\n",
        "    value = random.random() * 1000000\n",
        "    log_line = stamp + \"\\t\" + str(value) + \"값이 생성되었습니다.\\n\"\n",
        "    f.write(log_line)"
      ],
      "execution_count": null,
      "outputs": []
    },
    {
      "cell_type": "markdown",
      "metadata": {
        "id": "fqxER-lF8Y1P"
      },
      "source": [
        "Pickle\n",
        "- 파이썬의 객체를 영속화(persistence)하는 built-in 객체\n",
        "- 데이터, object 등 실행 중 정보를 저장 -> 불러와서 사용\n",
        "- 저장해야하는 정보, 계산 결과(모델) 등 활용이 많음"
      ]
    },
    {
      "cell_type": "code",
      "metadata": {
        "id": "XHMqg3YV8YVS"
      },
      "source": [
        "import pickle\n",
        "\n",
        "f = open(\"list.pickle\", \"wb\") #b는 binary file을 의미\n",
        "test = [1,2,3,4,5]\n",
        "pickle.dump(test, f)\n",
        "f.close()"
      ],
      "execution_count": null,
      "outputs": []
    },
    {
      "cell_type": "code",
      "metadata": {
        "id": "kslx-ndM9-5x"
      },
      "source": [
        "f = open(\"list.pickle\", \"rb\")\n",
        "test_pickle = pickle.load(f)\n",
        "test_pickle\n",
        "f.close()"
      ],
      "execution_count": null,
      "outputs": []
    },
    {
      "cell_type": "code",
      "metadata": {
        "colab": {
          "base_uri": "https://localhost:8080/"
        },
        "id": "0A4vXqjG-NGB",
        "outputId": "5c017220-7b61-4d0f-91d7-d140270bacce"
      },
      "source": [
        "test_pickle"
      ],
      "execution_count": null,
      "outputs": [
        {
          "output_type": "execute_result",
          "data": {
            "text/plain": [
              "[1, 2, 3, 4, 5]"
            ]
          },
          "metadata": {},
          "execution_count": 21
        }
      ]
    },
    {
      "cell_type": "code",
      "metadata": {
        "id": "CuzLJT59-p7L"
      },
      "source": [
        "class Multiply(object):\n",
        "  def __init__(self, multiplier):\n",
        "    self.multiplier = multiplier\n",
        "\n",
        "  def multiply(self, number):\n",
        "    return number * self.multiplier\n",
        "    "
      ],
      "execution_count": null,
      "outputs": []
    },
    {
      "cell_type": "code",
      "metadata": {
        "colab": {
          "base_uri": "https://localhost:8080/"
        },
        "id": "-wQao_pf_DuM",
        "outputId": "7ae2d3de-84aa-4c40-841c-f3ad566778b5"
      },
      "source": [
        "mul5 = Multiply(5)\n",
        "mul5.multiply(100)"
      ],
      "execution_count": null,
      "outputs": [
        {
          "output_type": "execute_result",
          "data": {
            "text/plain": [
              "500"
            ]
          },
          "metadata": {},
          "execution_count": 23
        }
      ]
    },
    {
      "cell_type": "code",
      "metadata": {
        "id": "OYyxHDLL_QMk"
      },
      "source": [
        "f = open(\"multiply_object.pickle\", \"wb\")\n",
        "pickle.dump(mul5, f)\n",
        "f.close()"
      ],
      "execution_count": null,
      "outputs": []
    },
    {
      "cell_type": "code",
      "metadata": {
        "id": "NuTtFSKH_hTH"
      },
      "source": [
        "del mul5"
      ],
      "execution_count": null,
      "outputs": []
    },
    {
      "cell_type": "code",
      "metadata": {
        "colab": {
          "base_uri": "https://localhost:8080/"
        },
        "id": "PDFp6gxp_ir7",
        "outputId": "f2cdbeb9-44b4-4b1f-dd44-24370046b00d"
      },
      "source": [
        "f = open(\"multiply_object.pickle\", \"rb\")\n",
        "multiply_pickle = pickle.load(f)\n",
        "multiply_pickle.multiply(100)"
      ],
      "execution_count": null,
      "outputs": [
        {
          "output_type": "execute_result",
          "data": {
            "text/plain": [
              "500"
            ]
          },
          "metadata": {},
          "execution_count": 26
        }
      ]
    }
  ]
}