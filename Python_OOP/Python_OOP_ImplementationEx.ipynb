{
  "nbformat": 4,
  "nbformat_minor": 0,
  "metadata": {
    "colab": {
      "name": "Python_OOP_ImplementationEx.ipynb",
      "provenance": [],
      "collapsed_sections": [],
      "authorship_tag": "ABX9TyOk6k/wxrhmy7QD01bzdzWV",
      "include_colab_link": true
    },
    "kernelspec": {
      "name": "python3",
      "display_name": "Python 3"
    },
    "language_info": {
      "name": "python"
    }
  },
  "cells": [
    {
      "cell_type": "markdown",
      "metadata": {
        "id": "view-in-github",
        "colab_type": "text"
      },
      "source": [
        "<a href=\"https://colab.research.google.com/github/cownow4425/Python-for-AI/blob/master/Python_OOP_ImplementationEx.ipynb\" target=\"_parent\"><img src=\"https://colab.research.google.com/assets/colab-badge.svg\" alt=\"Open In Colab\"/></a>"
      ]
    },
    {
      "cell_type": "code",
      "metadata": {
        "id": "2H-eJvlGRyag"
      },
      "source": [
        "class Note(object):\n",
        "  def __init__(self, content = None):\n",
        "    self.content = content\n",
        "\n",
        "  def write_content(self, content):\n",
        "    self.content = content\n",
        "\n",
        "  def remove_all(self):\n",
        "    self.content = \"\"\n",
        "\n",
        "  def __add__(self, other):\n",
        "    return self.content + other.content\n",
        "\n",
        "  def __str__(self):\n",
        "    return self.content"
      ],
      "execution_count": null,
      "outputs": []
    },
    {
      "cell_type": "code",
      "metadata": {
        "id": "BX-4NwG_T8NA"
      },
      "source": [
        "class NoteBook(object):\n",
        "  def __init__(self, title):\n",
        "    self.title = title\n",
        "    self.page_number = 1\n",
        "    self.notes = {}\n",
        "\n",
        "  def add_note(self, note, page = 0):\n",
        "    if self.page_number < 300:\n",
        "      if page == 0:\n",
        "        self.notes[self.page_number] = note\n",
        "        self.page_number += 1\n",
        "      else:\n",
        "        self.notes = {page : note}\n",
        "        self.page_number += 1\n",
        "    else:\n",
        "      print(\"Page가 모두 채워졌습니다.\")\n",
        "\n",
        "  def remove_note(self, page_number):\n",
        "    if page_number in self.notes.keys():\n",
        "      return self.notes.pop(page_number)\n",
        "    else:\n",
        "      print(\"해당 페이지는 존재하지 않습니다.\")\n",
        "\n",
        "  def get_number_of_pages(self):\n",
        "    return len(self.notes.keys())"
      ],
      "execution_count": null,
      "outputs": []
    },
    {
      "cell_type": "code",
      "metadata": {
        "colab": {
          "base_uri": "https://localhost:8080/"
        },
        "id": "2sOke_tyYz0n",
        "outputId": "45f0b060-696f-4434-eb5a-879e693505cd"
      },
      "source": [
        "my_notebook = NoteBook(\"강의노트\")\n",
        "my_notebook"
      ],
      "execution_count": null,
      "outputs": [
        {
          "output_type": "execute_result",
          "data": {
            "text/plain": [
              "<__main__.NoteBook at 0x7f855c0d7d90>"
            ]
          },
          "metadata": {},
          "execution_count": 4
        }
      ]
    },
    {
      "cell_type": "code",
      "metadata": {
        "colab": {
          "base_uri": "https://localhost:8080/"
        },
        "id": "9hq1bccAY75-",
        "outputId": "dadcd284-7947-49a3-ff86-1d5ec56f7410"
      },
      "source": [
        "new_note = Note(\"파이썬은 재밌어\")\n",
        "print(new_note)"
      ],
      "execution_count": null,
      "outputs": [
        {
          "output_type": "stream",
          "name": "stdout",
          "text": [
            "파이썬은 재밌어\n"
          ]
        }
      ]
    },
    {
      "cell_type": "code",
      "metadata": {
        "colab": {
          "base_uri": "https://localhost:8080/"
        },
        "id": "qrxGctG2ZD6P",
        "outputId": "1fbfc092-980c-4dfb-ca18-cd67cba073a6"
      },
      "source": [
        "new_note_2 = Note(\"파이썬 강의\")\n",
        "print(new_note_2)"
      ],
      "execution_count": null,
      "outputs": [
        {
          "output_type": "stream",
          "name": "stdout",
          "text": [
            "파이썬 강의\n"
          ]
        }
      ]
    },
    {
      "cell_type": "code",
      "metadata": {
        "colab": {
          "base_uri": "https://localhost:8080/"
        },
        "id": "4vGA2G6YZP4F",
        "outputId": "54e4375c-cc27-4696-a11c-0ef1897d8f47"
      },
      "source": [
        "my_notebook.add_note(new_note)\n",
        "my_notebook.notes"
      ],
      "execution_count": null,
      "outputs": [
        {
          "output_type": "execute_result",
          "data": {
            "text/plain": [
              "{8: <__main__.Note at 0x7f855c132650>,\n",
              " 9: <__main__.Note at 0x7f855c132650>,\n",
              " 100: <__main__.Note at 0x7f855c132a90>}"
            ]
          },
          "metadata": {},
          "execution_count": 22
        }
      ]
    },
    {
      "cell_type": "code",
      "metadata": {
        "colab": {
          "base_uri": "https://localhost:8080/"
        },
        "id": "y4S7t-45aEAy",
        "outputId": "bfcd2177-50df-4608-ae3f-d2d2348f1ac2"
      },
      "source": [
        "my_notebook.add_note(new_note_2, 100)\n",
        "my_notebook.notes"
      ],
      "execution_count": null,
      "outputs": [
        {
          "output_type": "execute_result",
          "data": {
            "text/plain": [
              "{100: <__main__.Note at 0x7f855c132a90>}"
            ]
          },
          "metadata": {},
          "execution_count": 23
        }
      ]
    },
    {
      "cell_type": "code",
      "metadata": {
        "colab": {
          "base_uri": "https://localhost:8080/"
        },
        "id": "Vp-BczSiZxrs",
        "outputId": "ca19ce3d-e95a-4a2b-a4fb-8ae7db1d7bd1"
      },
      "source": [
        "my_notebook.notes[100]"
      ],
      "execution_count": null,
      "outputs": [
        {
          "output_type": "execute_result",
          "data": {
            "text/plain": [
              "<__main__.Note at 0x7f855c132a90>"
            ]
          },
          "metadata": {},
          "execution_count": 20
        }
      ]
    },
    {
      "cell_type": "code",
      "metadata": {
        "colab": {
          "base_uri": "https://localhost:8080/"
        },
        "id": "mM9DYG2DbFd9",
        "outputId": "c1a40bc3-d6a9-4925-f515-f8ffe5525f1c"
      },
      "source": [
        "my_notebook.get_number_of_pages()\n",
        "my_notebook.page_number"
      ],
      "execution_count": null,
      "outputs": [
        {
          "output_type": "execute_result",
          "data": {
            "text/plain": [
              "11"
            ]
          },
          "metadata": {},
          "execution_count": 25
        }
      ]
    }
  ]
}
