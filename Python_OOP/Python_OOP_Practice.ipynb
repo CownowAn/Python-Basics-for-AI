{
  "nbformat": 4,
  "nbformat_minor": 0,
  "metadata": {
    "colab": {
      "name": "Python_OOP_Practice.ipynb",
      "provenance": [],
      "collapsed_sections": [],
      "authorship_tag": "ABX9TyOL4QsVCncCsASjXBriqwEW",
      "include_colab_link": true
    },
    "kernelspec": {
      "name": "python3",
      "display_name": "Python 3"
    },
    "language_info": {
      "name": "python"
    }
  },
  "cells": [
    {
      "cell_type": "markdown",
      "metadata": {
        "id": "view-in-github",
        "colab_type": "text"
      },
      "source": [
        "<a href=\"https://colab.research.google.com/github/cownow4425/Python-for-AI/blob/master/Python_OOP_Practice.ipynb\" target=\"_parent\"><img src=\"https://colab.research.google.com/assets/colab-badge.svg\" alt=\"Open In Colab\"/></a>"
      ]
    },
    {
      "cell_type": "code",
      "metadata": {
        "id": "2FjKzhwyNNz0"
      },
      "source": [
        "class SoccerPlayer(object):\n",
        "  def __init__(self, name:str, position:str, back_number:int):\n",
        "    self.name = name\n",
        "    self.position = position\n",
        "    self.back_number = back_number\n",
        "  \n",
        "  def change_back_number(self, new_number):\n",
        "    print(\"선수의 등번호를 변경합니다 : From %d to %d\" % (self.back_number, new_number))\n",
        "    self.back_number = new_number\n",
        "\n",
        "  #Magic Method\n",
        "  #print문 사용 시\n",
        "  def __str__(self):\n",
        "    return \"Hello. My name is %s. My back number is %d\" % (self.name, self.back_number)\n",
        "  \n",
        "  #+ 사용 시\n",
        "  def __add__(self, other):\n",
        "    return self.name + other.name\n"
      ],
      "execution_count": null,
      "outputs": []
    },
    {
      "cell_type": "code",
      "metadata": {
        "id": "18P5TziVOfqF"
      },
      "source": [
        "park = SoccerPlayer(\"park\",\"FW\",7)"
      ],
      "execution_count": null,
      "outputs": []
    },
    {
      "cell_type": "code",
      "metadata": {
        "colab": {
          "base_uri": "https://localhost:8080/"
        },
        "id": "IEjn2LRNP1pp",
        "outputId": "8ae24970-3d10-4bc9-ef29-297e96197bf8"
      },
      "source": [
        "print(park)"
      ],
      "execution_count": null,
      "outputs": [
        {
          "output_type": "stream",
          "name": "stdout",
          "text": [
            "Hello. My name is park. My back number is 7\n"
          ]
        }
      ]
    },
    {
      "cell_type": "code",
      "metadata": {
        "id": "lNDbRHHSP46V"
      },
      "source": [
        "son = SoccerPlayer(\"son\",\"FW\",13)"
      ],
      "execution_count": null,
      "outputs": []
    },
    {
      "cell_type": "code",
      "metadata": {
        "colab": {
          "base_uri": "https://localhost:8080/",
          "height": 35
        },
        "id": "qtkAN4u-QTCe",
        "outputId": "03c302ce-b9da-4a80-849d-2af2eb7aabcd"
      },
      "source": [
        "son + park"
      ],
      "execution_count": null,
      "outputs": [
        {
          "output_type": "execute_result",
          "data": {
            "application/vnd.google.colaboratory.intrinsic+json": {
              "type": "string"
            },
            "text/plain": [
              "'sonpark'"
            ]
          },
          "metadata": {},
          "execution_count": 12
        }
      ]
    },
    {
      "cell_type": "code",
      "metadata": {
        "colab": {
          "base_uri": "https://localhost:8080/"
        },
        "id": "VG26zRD1RKMw",
        "outputId": "fee1287d-6232-4666-8fd0-e06bb0cbc4cb"
      },
      "source": [
        "son.change_back_number(8)\n",
        "print(son)"
      ],
      "execution_count": null,
      "outputs": [
        {
          "output_type": "stream",
          "name": "stdout",
          "text": [
            "선수의 등번호를 변경합니다 : From 13 to 8\n",
            "Hello. My name is son. My back number is 8\n"
          ]
        }
      ]
    }
  ]
}
