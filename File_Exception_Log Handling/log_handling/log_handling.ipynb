{
  "nbformat": 4,
  "nbformat_minor": 0,
  "metadata": {
    "colab": {
      "name": "log_handling.ipynb",
      "provenance": [],
      "collapsed_sections": [],
      "authorship_tag": "ABX9TyNCMeCY5+0o0pPtlEMjxdyB",
      "include_colab_link": true
    },
    "kernelspec": {
      "name": "python3",
      "display_name": "Python 3"
    },
    "language_info": {
      "name": "python"
    }
  },
  "cells": [
    {
      "cell_type": "markdown",
      "metadata": {
        "id": "view-in-github",
        "colab_type": "text"
      },
      "source": [
        "<a href=\"https://colab.research.google.com/github/cownow4425/Python-for-AI/blob/master/log_handling.ipynb\" target=\"_parent\"><img src=\"https://colab.research.google.com/assets/colab-badge.svg\" alt=\"Open In Colab\"/></a>"
      ]
    },
    {
      "cell_type": "markdown",
      "metadata": {
        "id": "0X0XoVpKBZj2"
      },
      "source": [
        "logging level\n",
        "- debug: 개발 시 처리 기록을 남겨야하는 로그 정보를 남김\n",
        "- info: 처리가 진행되는 동안의 정보를 알림\n",
        "- warning: 사용자가 잘못 입력한 정보나 처리는 가능하나 원래 개발 시 의도치 않는 정보가 들어왔을 때 알림\n",
        "- error: 잘못된 처리로 인해 에러가 났으나, 프로그램은 동작할 수 있음을 알림\n",
        "- critical: 잘못된 처리로 데이터 손실이나 더 이상 프로그램이 동작할 수 없음을 알림"
      ]
    },
    {
      "cell_type": "code",
      "metadata": {
        "id": "tKF1hzEMAVOG"
      },
      "source": [
        "#logging level\n",
        "import logging\n",
        "\n",
        "if __name__ == '__main__':\n",
        "  logger = logging.getLogger(\"main\")\n",
        "  logging.basicConfig(level=logging.DEBUG)\n",
        "  logger.setLevel(logging.INFO)\n",
        "\n",
        "  steam_handler = logging.FileHandler(\n",
        "      \"my.log\", mode=\"w\", encoding=\"utf8\")\n",
        "  logger.addHandler(steam_handler)\n",
        "\n",
        "  logger.debug(\"틀렸습니다\")\n",
        "  logger.info(\"확인히세요\")\n",
        "  logger.warning(\"조심하세요\")\n",
        "  logger.error(\"에러입니다\")\n",
        "  logger.critical(\"망했습니다\")"
      ],
      "execution_count": null,
      "outputs": []
    },
    {
      "cell_type": "code",
      "metadata": {
        "id": "byACgURIEVw1"
      },
      "source": [
        "#configparser\n",
        "import configparser\n",
        "config = configparser.ConfigParser()\n",
        "\n",
        "config.read(\"example.cfg\")\n",
        "print(config.sections())\n",
        "\n",
        "for key in config['SectionTwo']:\n",
        "  value = config['SectionTwo'][key]\n",
        "  print(\"{0} : {1}\".format(key, value))"
      ],
      "execution_count": null,
      "outputs": []
    },
    {
      "cell_type": "code",
      "metadata": {
        "id": "7KyTl8V_GHl_"
      },
      "source": [
        "#argparser\n",
        "import argparse\n",
        "\n",
        "parser = argparse.ArgumentParser(\n",
        "    description='Sum two integers.'\n",
        ")\n",
        "\n",
        "parser.add_argument(\n",
        "    '-a', \"--a_value\",\n",
        "    dest=\"a\", help=\"A integers\", type=int,\n",
        "    required=True\n",
        ")\n",
        "\n",
        "parser.add_argument(\n",
        "    '-b', \"--b_value\",\n",
        "    dest=\"b\", help=\"B integers\", type=int,\n",
        "    required=True\n",
        ")\n",
        "\n",
        "args = parser.parse_args()\n",
        "print(args)\n",
        "print(args.a)\n",
        "print(args.b)\n",
        "print(args.a + args.b)"
      ],
      "execution_count": null,
      "outputs": []
    }
  ]
}
