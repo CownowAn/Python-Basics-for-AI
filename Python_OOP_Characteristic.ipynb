{
  "nbformat": 4,
  "nbformat_minor": 0,
  "metadata": {
    "colab": {
      "name": "Python_OOP_Characteristic.ipynb",
      "provenance": [],
      "collapsed_sections": [],
      "authorship_tag": "ABX9TyOaP7JZU/HMlShd3b7yqA37",
      "include_colab_link": true
    },
    "kernelspec": {
      "name": "python3",
      "display_name": "Python 3"
    },
    "language_info": {
      "name": "python"
    }
  },
  "cells": [
    {
      "cell_type": "markdown",
      "metadata": {
        "id": "view-in-github",
        "colab_type": "text"
      },
      "source": [
        "<a href=\"https://colab.research.google.com/github/cownow4425/Python-for-AI/blob/master/Python_OOP_Characteristic.ipynb\" target=\"_parent\"><img src=\"https://colab.research.google.com/assets/colab-badge.svg\" alt=\"Open In Colab\"/></a>"
      ]
    },
    {
      "cell_type": "markdown",
      "metadata": {
        "id": "U-9l0j3uc935"
      },
      "source": [
        "1. Inheritance"
      ]
    },
    {
      "cell_type": "code",
      "metadata": {
        "id": "mpj-SERecODW"
      },
      "source": [
        "class Person(object):\n",
        "  def __init__(self, name, age):\n",
        "    self.name = name\n",
        "    self.age = age\n",
        "\n",
        "  def __str__(self):\n",
        "    return \"저의 이름은 {0}입니다. 나이는 {1}입니다.\".format(self.name, self.age)\n",
        "    "
      ],
      "execution_count": null,
      "outputs": []
    },
    {
      "cell_type": "code",
      "metadata": {
        "id": "ge7187ylcrp2"
      },
      "source": [
        "class Korean(Person):\n",
        "  pass"
      ],
      "execution_count": null,
      "outputs": []
    },
    {
      "cell_type": "code",
      "metadata": {
        "colab": {
          "base_uri": "https://localhost:8080/"
        },
        "id": "sZTF-CpicuNQ",
        "outputId": "1e9fe1d5-5c0b-4099-8676-dfb9cc2b07d9"
      },
      "source": [
        "first_korean = Korean(\"Sohyun\", 23)\n",
        "print(first_korean)"
      ],
      "execution_count": null,
      "outputs": [
        {
          "output_type": "stream",
          "name": "stdout",
          "text": [
            "저의 이름은 Sohyun입니다. 나이는 23입니다.\n"
          ]
        }
      ]
    },
    {
      "cell_type": "code",
      "metadata": {
        "id": "eP3sZBJSdQsB"
      },
      "source": [
        "class Person(object):\n",
        "  def __init__(self, name, age, gender):\n",
        "    self.name = name\n",
        "    self.age = age\n",
        "    self.gender = gender\n",
        "\n",
        "  def about_me(self):\n",
        "    print(\"저의 이름은 \", self.name, \"이고요. 제 나이는 \", str(self.age), \"살입니다.\")\n",
        "\n",
        "  def __str__(self):\n",
        "    return \"저의 이름은 \", self.name, \"이고요. 제 나이는 \", str(self.age), \"살입니다.\""
      ],
      "execution_count": null,
      "outputs": []
    },
    {
      "cell_type": "code",
      "metadata": {
        "id": "XavvngB7dQQ7"
      },
      "source": [
        "class Employee(Person):\n",
        "  def __init__(self, name, age, gender, salary, hire_date):\n",
        "    super().__init__(name, age, gender)\n",
        "    self.salary = salary\n",
        "    self.hire_date = hire_date\n",
        "\n",
        "  def do_work(self):\n",
        "    print(\"열심히 일을 합니다.\")\n",
        "\n",
        "  def about_me(self):\n",
        "    super().about_me()\n",
        "    print(\"제 급여는 \", self.salary, \"원 이고요. 제 입사일은 \", self.hire_date, \"입니다.\")"
      ],
      "execution_count": null,
      "outputs": []
    },
    {
      "cell_type": "code",
      "metadata": {
        "colab": {
          "base_uri": "https://localhost:8080/"
        },
        "id": "YXJedpemdPz2",
        "outputId": "0000557a-90a2-441d-e39c-98b267a5ff39"
      },
      "source": [
        "myPerson = Person(\"Sohyun\", 23, \"Female\")\n",
        "myPerson.about_me()"
      ],
      "execution_count": null,
      "outputs": [
        {
          "output_type": "stream",
          "name": "stdout",
          "text": [
            "저의 이름은  Sohyun 이고요. 제 나이는  23 살입니다.\n"
          ]
        }
      ]
    },
    {
      "cell_type": "code",
      "metadata": {
        "colab": {
          "base_uri": "https://localhost:8080/"
        },
        "id": "tjz4Kqp1dPG9",
        "outputId": "bb6dc9d3-90ae-4b84-da83-c0d3fee8e0a9"
      },
      "source": [
        "myEmployee = Employee(\"Sohee\", 22, \"Female\", 300000, \"2021/11/11\")\n",
        "myEmployee.about_me()"
      ],
      "execution_count": null,
      "outputs": [
        {
          "output_type": "stream",
          "name": "stdout",
          "text": [
            "저의 이름은  Sohee 이고요. 제 나이는  22 살입니다.\n",
            "제 급여는  300000 원 이고요. 제 입사일은  2021/11/11 입니다.\n"
          ]
        }
      ]
    },
    {
      "cell_type": "markdown",
      "metadata": {
        "id": "am7vDPZKc6mm"
      },
      "source": [
        "2. Polymorphism"
      ]
    },
    {
      "cell_type": "code",
      "metadata": {
        "id": "04_DyL80fCgB"
      },
      "source": [
        "class Animal:\n",
        "  def __init__(self, name):\n",
        "    self.name = name\n",
        "\n",
        "  def talk(self):\n",
        "    raise NotImpementedError(\"Subclass must implement abstract method\")\n",
        "    "
      ],
      "execution_count": null,
      "outputs": []
    },
    {
      "cell_type": "code",
      "metadata": {
        "id": "FnFGir-bqlUM"
      },
      "source": [
        "class Cat(Animal):\n",
        "  def talk(self):\n",
        "    return \"Meow!\"\n",
        "\n",
        "class Dog(Animal):\n",
        "  def talk(self):\n",
        "    return \"Woof! Woof!\""
      ],
      "execution_count": null,
      "outputs": []
    },
    {
      "cell_type": "code",
      "metadata": {
        "colab": {
          "base_uri": "https://localhost:8080/"
        },
        "id": "B2m4bj18q1Bw",
        "outputId": "ff3c23d6-29fd-4e10-9180-bdd9da6ca0aa"
      },
      "source": [
        "animals = [Cat('Missy'), Cat('Mr.Mistoffeless'), Dog('Lassie')]\n",
        "\n",
        "for animal in animals:\n",
        "  print(animal.name + ': ' + animal.talk())"
      ],
      "execution_count": null,
      "outputs": [
        {
          "output_type": "stream",
          "name": "stdout",
          "text": [
            "Missy: Meow!\n",
            "Mr.Mistoffeless: Meow!\n",
            "Lassie: Woof! Woof!\n"
          ]
        }
      ]
    },
    {
      "cell_type": "markdown",
      "metadata": {
        "id": "qhcly2QjrZkq"
      },
      "source": [
        "3. Visibility"
      ]
    },
    {
      "cell_type": "code",
      "metadata": {
        "id": "8RaaFrlhra8_"
      },
      "source": [
        "class Product(object):\n",
        "  pass"
      ],
      "execution_count": null,
      "outputs": []
    },
    {
      "cell_type": "code",
      "metadata": {
        "id": "RsAfYpWhsRpc"
      },
      "source": [
        "class Inventory(object):\n",
        "  def __init__(self):\n",
        "    self.__items = [] #Private 변수로 선언. 타객체가 접근 못함.\n",
        "\n",
        "  def add_new_item(self, product):\n",
        "    if type(product) == Product:\n",
        "      self.__items.append(product)\n",
        "      print(\"new item added\")\n",
        "    else:\n",
        "      raise ValueError(\"Invalid Item\")\n",
        "  \n",
        "  def get_number_of_items(self):\n",
        "    return len(self.__items)"
      ],
      "execution_count": null,
      "outputs": []
    },
    {
      "cell_type": "code",
      "metadata": {
        "colab": {
          "base_uri": "https://localhost:8080/"
        },
        "id": "s8JCo9GCtNSL",
        "outputId": "acd98373-1fb3-421a-80a0-c888ae9dde5e"
      },
      "source": [
        "my_inventory = Inventory()\n",
        "my_inventory.add_new_item(Product())\n",
        "my_inventory.add_new_item(Product())\n",
        "my_inventory"
      ],
      "execution_count": null,
      "outputs": [
        {
          "output_type": "stream",
          "name": "stdout",
          "text": [
            "new item added\n",
            "new item added\n"
          ]
        },
        {
          "output_type": "execute_result",
          "data": {
            "text/plain": [
              "<__main__.Inventory at 0x7f680e8c3a90>"
            ]
          },
          "metadata": {},
          "execution_count": 14
        }
      ]
    },
    {
      "cell_type": "code",
      "metadata": {
        "id": "JH5eSE-6uQ_N"
      },
      "source": [
        "class Inventory(object):\n",
        "  def __init__(self):\n",
        "    self.__items = [] #Private 변수로 선언. 타객체가 접근 못함.\n",
        "\n",
        "  def add_new_item(self, product):\n",
        "    if type(product) == Product:\n",
        "      self.__items.append(product)\n",
        "      print(\"new item added\")\n",
        "    else:\n",
        "      raise ValueError(\"Invalid Item\")\n",
        "  \n",
        "  def get_number_of_items(self):\n",
        "    return len(self.__items)\n",
        "\n",
        "  @property #decorator\n",
        "  def items(self):\n",
        "    return self.__items"
      ],
      "execution_count": null,
      "outputs": []
    },
    {
      "cell_type": "code",
      "metadata": {
        "colab": {
          "base_uri": "https://localhost:8080/"
        },
        "id": "myTC9I6Yum32",
        "outputId": "bc77217a-98b3-40d9-9217-4b2972717eeb"
      },
      "source": [
        "my_inventory = Inventory()\n",
        "my_inventory.add_new_item(Product())\n",
        "my_inventory.add_new_item(Product())\n",
        "my_inventory"
      ],
      "execution_count": null,
      "outputs": [
        {
          "output_type": "stream",
          "name": "stdout",
          "text": [
            "new item added\n",
            "new item added\n"
          ]
        },
        {
          "output_type": "execute_result",
          "data": {
            "text/plain": [
              "<__main__.Inventory at 0x7f680e935590>"
            ]
          },
          "metadata": {},
          "execution_count": 18
        }
      ]
    },
    {
      "cell_type": "code",
      "metadata": {
        "id": "VehjE4bKupTV"
      },
      "source": [
        "my_inventory.items.append('a')"
      ],
      "execution_count": null,
      "outputs": []
    },
    {
      "cell_type": "code",
      "metadata": {
        "colab": {
          "base_uri": "https://localhost:8080/"
        },
        "id": "-95tKz6uu20k",
        "outputId": "ae31c046-398a-4a87-a446-90858b567e83"
      },
      "source": [
        "my_inventory.items"
      ],
      "execution_count": null,
      "outputs": [
        {
          "output_type": "execute_result",
          "data": {
            "text/plain": [
              "[<__main__.Product at 0x7f680e957a10>,\n",
              " <__main__.Product at 0x7f680e929f50>,\n",
              " 'a']"
            ]
          },
          "metadata": {},
          "execution_count": 22
        }
      ]
    },
    {
      "cell_type": "markdown",
      "metadata": {
        "id": "2TBkajHvvsUt"
      },
      "source": [
        "First-class objects"
      ]
    },
    {
      "cell_type": "code",
      "metadata": {
        "id": "Y-KRaUaevwfm"
      },
      "source": [
        "def square(x):\n",
        "  return x * x"
      ],
      "execution_count": null,
      "outputs": []
    },
    {
      "cell_type": "code",
      "metadata": {
        "colab": {
          "base_uri": "https://localhost:8080/"
        },
        "id": "Odh2tUo0v0e8",
        "outputId": "59a7e06a-4661-4836-cda3-997adaa62a40"
      },
      "source": [
        "f = square #함수를 변수로 사용\n",
        "f(5)"
      ],
      "execution_count": null,
      "outputs": [
        {
          "output_type": "execute_result",
          "data": {
            "text/plain": [
              "25"
            ]
          },
          "metadata": {},
          "execution_count": 24
        }
      ]
    },
    {
      "cell_type": "code",
      "metadata": {
        "id": "kA_xvt_Av4oe"
      },
      "source": [
        "def cube(x):\n",
        "  return x*x*x"
      ],
      "execution_count": null,
      "outputs": []
    },
    {
      "cell_type": "code",
      "metadata": {
        "id": "pZ0Mc0_-wG9a"
      },
      "source": [
        "#함수를 파라미터로 사용\n",
        "def formula(method, argument_list):\n",
        "  return [method(value) for value in argument_list]"
      ],
      "execution_count": null,
      "outputs": []
    },
    {
      "cell_type": "markdown",
      "metadata": {
        "id": "7q3lmyKCwkdA"
      },
      "source": [
        "Inner function"
      ]
    },
    {
      "cell_type": "code",
      "metadata": {
        "id": "cWn6ZV2Zwnak"
      },
      "source": [
        "#함수 내에 또 다른 함수가 존재\n",
        "def print_msg(msg):\n",
        "  def printer():\n",
        "    print(msg)\n",
        "  printer()"
      ],
      "execution_count": null,
      "outputs": []
    },
    {
      "cell_type": "code",
      "metadata": {
        "colab": {
          "base_uri": "https://localhost:8080/"
        },
        "id": "I4DI6oqvwwHd",
        "outputId": "501c0b6f-264c-49c1-b4b2-5d58e868b04d"
      },
      "source": [
        "print_msg(\"Hello, Python\")"
      ],
      "execution_count": null,
      "outputs": [
        {
          "output_type": "stream",
          "name": "stdout",
          "text": [
            "Hello, Python\n"
          ]
        }
      ]
    },
    {
      "cell_type": "code",
      "metadata": {
        "id": "Dc-gbT45w8B4"
      },
      "source": [
        "#closures: inner function을 return값으로 반환(python은 일급함수/일급객체 지원)\n",
        "def print_msg(msg):\n",
        "  def printer():\n",
        "    print(msg)\n",
        "  return printer"
      ],
      "execution_count": null,
      "outputs": []
    },
    {
      "cell_type": "code",
      "metadata": {
        "id": "1Dyw678dxA0f"
      },
      "source": [
        "another = print_msg(\"Hello, Python\")"
      ],
      "execution_count": null,
      "outputs": []
    },
    {
      "cell_type": "code",
      "metadata": {
        "colab": {
          "base_uri": "https://localhost:8080/"
        },
        "id": "EpbcB05DxfKo",
        "outputId": "4c0607c1-3833-4370-989e-32500db270e5"
      },
      "source": [
        "another()"
      ],
      "execution_count": null,
      "outputs": [
        {
          "output_type": "stream",
          "name": "stdout",
          "text": [
            "Hello, Python\n"
          ]
        }
      ]
    },
    {
      "cell_type": "code",
      "metadata": {
        "id": "x7RAraL2xr8a"
      },
      "source": [
        "#closure example\n",
        "def tag_func(tag, text):\n",
        "  text = text\n",
        "  tag = tag\n",
        "\n",
        "  def inner_func():\n",
        "    return '<{0}>{1}<{0}>'.format(tag, text)\n",
        "\n",
        "  return inner_func\n",
        "\n",
        "\n",
        "h1_func = tag_func('title','This is Python Class')\n",
        "p_func = tag_func('p','Data Academy')"
      ],
      "execution_count": null,
      "outputs": []
    },
    {
      "cell_type": "code",
      "metadata": {
        "colab": {
          "base_uri": "https://localhost:8080/",
          "height": 35
        },
        "id": "-hXUHri4yb5F",
        "outputId": "56440817-390c-4f9d-a474-2473b10e9c97"
      },
      "source": [
        "h1_func()"
      ],
      "execution_count": null,
      "outputs": [
        {
          "output_type": "execute_result",
          "data": {
            "application/vnd.google.colaboratory.intrinsic+json": {
              "type": "string"
            },
            "text/plain": [
              "'<title>This is Python Class<title>'"
            ]
          },
          "metadata": {},
          "execution_count": 37
        }
      ]
    },
    {
      "cell_type": "code",
      "metadata": {
        "colab": {
          "base_uri": "https://localhost:8080/"
        },
        "id": "kLaSXhWfyz-K",
        "outputId": "f622ca79-a425-4c46-fdea-e98ca4833103"
      },
      "source": [
        "#decorator: 복잡한 closure 함수를 간단하게\n",
        "def star(func):\n",
        "  def inner(*args, **kwargs):\n",
        "    print(\"*\" * 30)\n",
        "    func(*args, **kwargs)\n",
        "    print(\"*\" * 30)\n",
        "  return inner\n",
        "\n",
        "@star\n",
        "def printer(msg):\n",
        "  print(msg)\n",
        "\n",
        "printer(\"Hello\")"
      ],
      "execution_count": null,
      "outputs": [
        {
          "output_type": "stream",
          "name": "stdout",
          "text": [
            "******************************\n",
            "Hello\n",
            "******************************\n"
          ]
        }
      ]
    },
    {
      "cell_type": "code",
      "metadata": {
        "colab": {
          "base_uri": "https://localhost:8080/"
        },
        "id": "02g2GeGP2KL0",
        "outputId": "28623475-9f9b-44a9-a9f1-360a61fb2fb9"
      },
      "source": [
        "def star(func):\n",
        "  def inner(*args, **kwargs):\n",
        "    print('*' * 30)\n",
        "    func(*args, **kwargs)\n",
        "    print('*' * 30)\n",
        "  return inner\n",
        "\n",
        "def percent(func):\n",
        "  def inner(*args, **kwargs):\n",
        "    print('%' * 30)\n",
        "    func(*args, **kwargs)\n",
        "    print('%' * 30)\n",
        "  return inner\n",
        "\n",
        "@star\n",
        "@percent\n",
        "def printer(msg):\n",
        "  print(msg)\n",
        "\n",
        "printer(\"Hello\")"
      ],
      "execution_count": null,
      "outputs": [
        {
          "output_type": "stream",
          "name": "stdout",
          "text": [
            "******************************\n",
            "%%%%%%%%%%%%%%%%%%%%%%%%%%%%%%\n",
            "Hello\n",
            "%%%%%%%%%%%%%%%%%%%%%%%%%%%%%%\n",
            "******************************\n"
          ]
        }
      ]
    },
    {
      "cell_type": "code",
      "metadata": {
        "id": "Al6XeWDY4foK"
      },
      "source": [
        "#decorator function\n",
        "def generate_power(exponent):\n",
        "  def wrapper (f):\n",
        "    def inner(*args):\n",
        "      result = f(*args)\n",
        "      return exponent**result\n",
        "    return inner\n",
        "  return wrapper\n",
        "\n",
        "@generate_power(2)\n",
        "def raise_two(n):\n",
        "  return n**2\n",
        "\n",
        "#exponent에는 2가, f에는 raise_two가 들어감."
      ],
      "execution_count": null,
      "outputs": []
    },
    {
      "cell_type": "code",
      "metadata": {
        "colab": {
          "base_uri": "https://localhost:8080/"
        },
        "id": "D1QcBV3K42a-",
        "outputId": "35f86a85-6aac-4899-f4df-086f42df2756"
      },
      "source": [
        "print(raise_two(7)) #2**49"
      ],
      "execution_count": null,
      "outputs": [
        {
          "output_type": "stream",
          "name": "stdout",
          "text": [
            "562949953421312\n"
          ]
        }
      ]
    }
  ]
}