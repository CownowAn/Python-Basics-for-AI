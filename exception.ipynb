{
  "nbformat": 4,
  "nbformat_minor": 0,
  "metadata": {
    "colab": {
      "name": "exception.ipynb",
      "provenance": [],
      "collapsed_sections": [],
      "authorship_tag": "ABX9TyNwBTppGCHe2T/fIc9rUcZE",
      "include_colab_link": true
    },
    "kernelspec": {
      "name": "python3",
      "display_name": "Python 3"
    },
    "language_info": {
      "name": "python"
    }
  },
  "cells": [
    {
      "cell_type": "markdown",
      "metadata": {
        "id": "view-in-github",
        "colab_type": "text"
      },
      "source": [
        "<a href=\"https://colab.research.google.com/github/cownow4425/Python-for-AI/blob/master/exception.ipynb\" target=\"_parent\"><img src=\"https://colab.research.google.com/assets/colab-badge.svg\" alt=\"Open In Colab\"/></a>"
      ]
    },
    {
      "cell_type": "markdown",
      "metadata": {
        "id": "_BBSuoCNhR30"
      },
      "source": [
        "Built-in Exception\n",
        "- IndexError: :List의 Index 범위를 넘어갈 때\n",
        "- NameError: 존재하지 않은 변수를 호출할 때\n",
        "- ZeroDivisionError: 0으로 숫자를 나눌 때\n",
        "- ValueError: 변환할 수 없는 문자/숫자를 변환할 때\n",
        "- FileNorFoundError: 존재하지 않는 파일을 호출할 때\n",
        "- 이 외에도 다양한 Built-in Error가 존재"
      ]
    },
    {
      "cell_type": "code",
      "metadata": {
        "colab": {
          "base_uri": "https://localhost:8080/"
        },
        "id": "3K-yV6w7gBdu",
        "outputId": "c5166d9a-e5e4-49cf-d6c0-308c31b8f1b5"
      },
      "source": [
        "a = [1,2,3,4,5]\n",
        "for i in range(10):\n",
        "  try:\n",
        "    print(i, 10//i)\n",
        "  except ZeroDivisionError:\n",
        "    print(\"Error\")\n",
        "    print(\"Not divided by 0\")\n",
        "  except IndexError:\n",
        "    print(\"Index\")"
      ],
      "execution_count": null,
      "outputs": [
        {
          "output_type": "stream",
          "name": "stdout",
          "text": [
            "Error\n",
            "Not divided by 0\n",
            "1 10\n",
            "2 5\n",
            "3 3\n",
            "4 2\n",
            "5 2\n",
            "6 1\n",
            "7 1\n",
            "8 1\n",
            "9 1\n"
          ]
        }
      ]
    },
    {
      "cell_type": "markdown",
      "metadata": {
        "id": "LUsVZaLEitQ4"
      },
      "source": [
        "try ~ except ~ else\n",
        " - 예외가 발생하지 않은 경우 -> else"
      ]
    },
    {
      "cell_type": "code",
      "metadata": {
        "colab": {
          "base_uri": "https://localhost:8080/"
        },
        "id": "2GnmWvpwh4m2",
        "outputId": "97e1ddb5-99cd-45a4-a591-ceec5005333e"
      },
      "source": [
        "for i in range(10):\n",
        "  try:\n",
        "    result = 10//i\n",
        "  except ZeroDivisionError:\n",
        "    print(\"Not dividede by 0\")\n",
        "  else:\n",
        "    print(10//i)"
      ],
      "execution_count": null,
      "outputs": [
        {
          "output_type": "stream",
          "name": "stdout",
          "text": [
            "Not dividede by 0\n",
            "10\n",
            "5\n",
            "3\n",
            "2\n",
            "2\n",
            "1\n",
            "1\n",
            "1\n",
            "1\n"
          ]
        }
      ]
    },
    {
      "cell_type": "markdown",
      "metadata": {
        "id": "Y8hHkz3TjRbv"
      },
      "source": [
        "try ~ except ~ finally\n",
        "- 예외 발생 여부에 상관 없이 실행되는 코드 -> finally"
      ]
    },
    {
      "cell_type": "code",
      "metadata": {
        "colab": {
          "base_uri": "https://localhost:8080/"
        },
        "id": "wlhahxFejUBs",
        "outputId": "202eafc4-3955-4afe-fe89-5da16e934e30"
      },
      "source": [
        "try:\n",
        "  for i in range(10):\n",
        "    result = 10//i\n",
        "    print(result)\n",
        "except ZeroDivisionError:\n",
        "  print(\"Not divided by 0\")\n",
        "finally:\n",
        "  print(\"종료되었습니다.\")\n"
      ],
      "execution_count": null,
      "outputs": [
        {
          "output_type": "stream",
          "name": "stdout",
          "text": [
            "Not divided by 0\n",
            "종료되었습니다.\n"
          ]
        }
      ]
    },
    {
      "cell_type": "markdown",
      "metadata": {
        "id": "Jo825cBRlAfW"
      },
      "source": [
        "raise 구문\n",
        "- 필요에 따라 강제로 Exception을 발생"
      ]
    },
    {
      "cell_type": "code",
      "metadata": {
        "colab": {
          "base_uri": "https://localhost:8080/",
          "height": 300
        },
        "id": "Oe0-nYX4lGfV",
        "outputId": "62d80690-3782-4e23-fc07-ad41db8b3bc2"
      },
      "source": [
        "while True:\n",
        "  value = input(\"변환할 정수 값을 입력해주세요\")\n",
        "  for digit in value:\n",
        "    if digit not in \"0123456789\":\n",
        "      raise ValueError(\"숫자값을 입력하지 않으셨습니다.\")\n",
        "  print(\"정수값으로 변환된 숫자 - \", int(value))"
      ],
      "execution_count": null,
      "outputs": [
        {
          "name": "stdout",
          "output_type": "stream",
          "text": [
            "변환할 정수 값을 입력해주세요67\n",
            "정수값으로 변환된 숫자 -  67\n",
            "변환할 정수 값을 입력해주세요009866543\n",
            "정수값으로 변환된 숫자 -  9866543\n",
            "변환할 정수 값을 입력해주세요-1\n"
          ]
        },
        {
          "output_type": "error",
          "ename": "ValueError",
          "evalue": "ignored",
          "traceback": [
            "\u001b[0;31m---------------------------------------------------------------------------\u001b[0m",
            "\u001b[0;31mValueError\u001b[0m                                Traceback (most recent call last)",
            "\u001b[0;32m<ipython-input-5-0b063b1db547>\u001b[0m in \u001b[0;36m<module>\u001b[0;34m()\u001b[0m\n\u001b[1;32m      3\u001b[0m   \u001b[0;32mfor\u001b[0m \u001b[0mdigit\u001b[0m \u001b[0;32min\u001b[0m \u001b[0mvalue\u001b[0m\u001b[0;34m:\u001b[0m\u001b[0;34m\u001b[0m\u001b[0;34m\u001b[0m\u001b[0m\n\u001b[1;32m      4\u001b[0m     \u001b[0;32mif\u001b[0m \u001b[0mdigit\u001b[0m \u001b[0;32mnot\u001b[0m \u001b[0;32min\u001b[0m \u001b[0;34m\"0123456789\"\u001b[0m\u001b[0;34m:\u001b[0m\u001b[0;34m\u001b[0m\u001b[0;34m\u001b[0m\u001b[0m\n\u001b[0;32m----> 5\u001b[0;31m       \u001b[0;32mraise\u001b[0m \u001b[0mValueError\u001b[0m\u001b[0;34m(\u001b[0m\u001b[0;34m\"숫자값을 입력하지 않으셨습니다.\"\u001b[0m\u001b[0;34m)\u001b[0m\u001b[0;34m\u001b[0m\u001b[0;34m\u001b[0m\u001b[0m\n\u001b[0m\u001b[1;32m      6\u001b[0m   \u001b[0mprint\u001b[0m\u001b[0;34m(\u001b[0m\u001b[0;34m\"정수값으로 변환된 숫자 - \"\u001b[0m\u001b[0;34m,\u001b[0m \u001b[0mint\u001b[0m\u001b[0;34m(\u001b[0m\u001b[0mvalue\u001b[0m\u001b[0;34m)\u001b[0m\u001b[0;34m)\u001b[0m\u001b[0;34m\u001b[0m\u001b[0;34m\u001b[0m\u001b[0m\n",
            "\u001b[0;31mValueError\u001b[0m: 숫자값을 입력하지 않으셨습니다."
          ]
        }
      ]
    },
    {
      "cell_type": "markdown",
      "metadata": {
        "id": "cQBm5gcrmHO_"
      },
      "source": [
        "assert 구문\n",
        "- 특정 조건에 만족하지 않을 경우 예외 발생"
      ]
    },
    {
      "cell_type": "code",
      "metadata": {
        "colab": {
          "base_uri": "https://localhost:8080/",
          "height": 317
        },
        "id": "JwMmb6N2mM4H",
        "outputId": "9b9eff37-5ede-47d5-8324-c4e699732d7e"
      },
      "source": [
        "def get_binary_number(decimal_number : int):\n",
        "  assert isinstance(decimal_number, int) #True or False\n",
        "  return bin(decimal_number)\n",
        "\n",
        "print(get_binary_number(10.0))"
      ],
      "execution_count": null,
      "outputs": [
        {
          "output_type": "error",
          "ename": "AssertionError",
          "evalue": "ignored",
          "traceback": [
            "\u001b[0;31m---------------------------------------------------------------------------\u001b[0m",
            "\u001b[0;31mAssertionError\u001b[0m                            Traceback (most recent call last)",
            "\u001b[0;32m<ipython-input-6-4671fc83aeef>\u001b[0m in \u001b[0;36m<module>\u001b[0;34m()\u001b[0m\n\u001b[1;32m      3\u001b[0m   \u001b[0;32mreturn\u001b[0m \u001b[0mbin\u001b[0m\u001b[0;34m(\u001b[0m\u001b[0mdecimal_number\u001b[0m\u001b[0;34m)\u001b[0m\u001b[0;34m\u001b[0m\u001b[0;34m\u001b[0m\u001b[0m\n\u001b[1;32m      4\u001b[0m \u001b[0;34m\u001b[0m\u001b[0m\n\u001b[0;32m----> 5\u001b[0;31m \u001b[0mprint\u001b[0m\u001b[0;34m(\u001b[0m\u001b[0mget_binary_number\u001b[0m\u001b[0;34m(\u001b[0m\u001b[0;36m10.0\u001b[0m\u001b[0;34m)\u001b[0m\u001b[0;34m)\u001b[0m\u001b[0;34m\u001b[0m\u001b[0;34m\u001b[0m\u001b[0m\n\u001b[0m",
            "\u001b[0;32m<ipython-input-6-4671fc83aeef>\u001b[0m in \u001b[0;36mget_binary_number\u001b[0;34m(decimal_number)\u001b[0m\n\u001b[1;32m      1\u001b[0m \u001b[0;32mdef\u001b[0m \u001b[0mget_binary_number\u001b[0m\u001b[0;34m(\u001b[0m\u001b[0mdecimal_number\u001b[0m \u001b[0;34m:\u001b[0m \u001b[0mint\u001b[0m\u001b[0;34m)\u001b[0m\u001b[0;34m:\u001b[0m\u001b[0;34m\u001b[0m\u001b[0;34m\u001b[0m\u001b[0m\n\u001b[0;32m----> 2\u001b[0;31m   \u001b[0;32massert\u001b[0m \u001b[0misinstance\u001b[0m\u001b[0;34m(\u001b[0m\u001b[0mdecimal_number\u001b[0m\u001b[0;34m,\u001b[0m \u001b[0mint\u001b[0m\u001b[0;34m)\u001b[0m \u001b[0;31m#True or False\u001b[0m\u001b[0;34m\u001b[0m\u001b[0;34m\u001b[0m\u001b[0m\n\u001b[0m\u001b[1;32m      3\u001b[0m   \u001b[0;32mreturn\u001b[0m \u001b[0mbin\u001b[0m\u001b[0;34m(\u001b[0m\u001b[0mdecimal_number\u001b[0m\u001b[0;34m)\u001b[0m\u001b[0;34m\u001b[0m\u001b[0;34m\u001b[0m\u001b[0m\n\u001b[1;32m      4\u001b[0m \u001b[0;34m\u001b[0m\u001b[0m\n\u001b[1;32m      5\u001b[0m \u001b[0mprint\u001b[0m\u001b[0;34m(\u001b[0m\u001b[0mget_binary_number\u001b[0m\u001b[0;34m(\u001b[0m\u001b[0;36m10.0\u001b[0m\u001b[0;34m)\u001b[0m\u001b[0;34m)\u001b[0m\u001b[0;34m\u001b[0m\u001b[0;34m\u001b[0m\u001b[0m\n",
            "\u001b[0;31mAssertionError\u001b[0m: "
          ]
        }
      ]
    }
  ]
}