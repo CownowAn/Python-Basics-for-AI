{
  "nbformat": 4,
  "nbformat_minor": 0,
  "metadata": {
    "colab": {
      "name": "8_numpy_boolean_fancy_index.ipynb",
      "provenance": [],
      "collapsed_sections": [],
      "authorship_tag": "ABX9TyOF6Y2c0nKIARIwFixDpLd/",
      "include_colab_link": true
    },
    "kernelspec": {
      "name": "python3",
      "display_name": "Python 3"
    },
    "language_info": {
      "name": "python"
    }
  },
  "cells": [
    {
      "cell_type": "markdown",
      "metadata": {
        "id": "view-in-github",
        "colab_type": "text"
      },
      "source": [
        "<a href=\"https://colab.research.google.com/github/cownow4425/Python-for-AI/blob/master/Numpy/8_numpy_boolean_fancy_index.ipynb\" target=\"_parent\"><img src=\"https://colab.research.google.com/assets/colab-badge.svg\" alt=\"Open In Colab\"/></a>"
      ]
    },
    {
      "cell_type": "code",
      "metadata": {
        "id": "_jwiCj-BjOrs"
      },
      "source": [
        "import numpy as np"
      ],
      "execution_count": null,
      "outputs": []
    },
    {
      "cell_type": "markdown",
      "metadata": {
        "id": "sWEENCxwjaQq"
      },
      "source": [
        "boolean index"
      ]
    },
    {
      "cell_type": "code",
      "metadata": {
        "colab": {
          "base_uri": "https://localhost:8080/"
        },
        "id": "7xW_iBIhjiSO",
        "outputId": "bcfe3baf-a02b-440c-e0f1-3d80833d4cc8"
      },
      "source": [
        "test_array = np.array([1,4,0,2,3,8,9,7], float)\n",
        "test_array > 3"
      ],
      "execution_count": null,
      "outputs": [
        {
          "output_type": "execute_result",
          "data": {
            "text/plain": [
              "array([False,  True, False, False, False,  True,  True,  True])"
            ]
          },
          "metadata": {},
          "execution_count": 2
        }
      ]
    },
    {
      "cell_type": "code",
      "metadata": {
        "colab": {
          "base_uri": "https://localhost:8080/"
        },
        "id": "yhrZ_jEvjomO",
        "outputId": "22da3542-34e7-43ce-9585-143579aea7fe"
      },
      "source": [
        "test_array.shape"
      ],
      "execution_count": null,
      "outputs": [
        {
          "output_type": "execute_result",
          "data": {
            "text/plain": [
              "(8,)"
            ]
          },
          "metadata": {},
          "execution_count": 3
        }
      ]
    },
    {
      "cell_type": "code",
      "metadata": {
        "colab": {
          "base_uri": "https://localhost:8080/"
        },
        "id": "W1_rpMNkjrFF",
        "outputId": "483a470b-95c6-456e-97aa-b7bfc8dcdf9f"
      },
      "source": [
        "(test_array > 3).shape"
      ],
      "execution_count": null,
      "outputs": [
        {
          "output_type": "execute_result",
          "data": {
            "text/plain": [
              "(8,)"
            ]
          },
          "metadata": {},
          "execution_count": 4
        }
      ]
    },
    {
      "cell_type": "code",
      "metadata": {
        "colab": {
          "base_uri": "https://localhost:8080/"
        },
        "id": "k04L8MDcjuQv",
        "outputId": "68873521-5fe2-4298-f637-9852d863c363"
      },
      "source": [
        "test_array[test_array > 3]"
      ],
      "execution_count": null,
      "outputs": [
        {
          "output_type": "execute_result",
          "data": {
            "text/plain": [
              "array([4., 8., 9., 7.])"
            ]
          },
          "metadata": {},
          "execution_count": 5
        }
      ]
    },
    {
      "cell_type": "code",
      "metadata": {
        "id": "UYOXN-UXj2ca"
      },
      "source": [
        "condition = test_array < 3"
      ],
      "execution_count": null,
      "outputs": []
    },
    {
      "cell_type": "code",
      "metadata": {
        "colab": {
          "base_uri": "https://localhost:8080/"
        },
        "id": "E5RGu5Vuj5_S",
        "outputId": "6248e475-5206-4ffc-8146-f52db857d345"
      },
      "source": [
        "test_array[condition]"
      ],
      "execution_count": null,
      "outputs": [
        {
          "output_type": "execute_result",
          "data": {
            "text/plain": [
              "array([1., 0., 2.])"
            ]
          },
          "metadata": {},
          "execution_count": 7
        }
      ]
    },
    {
      "cell_type": "markdown",
      "metadata": {
        "id": "NOt5lKpoj7s1"
      },
      "source": [
        "fancy index "
      ]
    },
    {
      "cell_type": "code",
      "metadata": {
        "id": "aUJ6BZsNkWp6"
      },
      "source": [
        "a = np.array([2,4,6,8], float)\n",
        "cond = np.array([1,1,1,2,1,1,1,3])"
      ],
      "execution_count": null,
      "outputs": []
    },
    {
      "cell_type": "code",
      "metadata": {
        "colab": {
          "base_uri": "https://localhost:8080/"
        },
        "id": "y-eVJJw2kcn5",
        "outputId": "d0ba68ea-8903-47f7-8b17-fde126959f68"
      },
      "source": [
        "a.take(cond)"
      ],
      "execution_count": null,
      "outputs": [
        {
          "output_type": "execute_result",
          "data": {
            "text/plain": [
              "array([4., 4., 4., 6., 4., 4., 4., 8.])"
            ]
          },
          "metadata": {},
          "execution_count": 9
        }
      ]
    },
    {
      "cell_type": "code",
      "metadata": {
        "colab": {
          "base_uri": "https://localhost:8080/"
        },
        "id": "tXhp_d4EkiNA",
        "outputId": "db1c69a5-a739-491a-ad29-53b9b724ed95"
      },
      "source": [
        "a[cond]"
      ],
      "execution_count": null,
      "outputs": [
        {
          "output_type": "execute_result",
          "data": {
            "text/plain": [
              "array([4., 4., 4., 6., 4., 4., 4., 8.])"
            ]
          },
          "metadata": {},
          "execution_count": 11
        }
      ]
    },
    {
      "cell_type": "code",
      "metadata": {
        "colab": {
          "base_uri": "https://localhost:8080/"
        },
        "id": "48kMaMwOkm7u",
        "outputId": "3167965e-04ad-4d81-a301-d4f5562b5ceb"
      },
      "source": [
        "a = np.array([[1,4],[9,16]], float)\n",
        "b = np.array([0,0,1,1,0], int)\n",
        "c = np.array([0,1,1,1,1], int)\n",
        "a[b, c] #b를 row index, c를 column index로 변환하여 표시함"
      ],
      "execution_count": null,
      "outputs": [
        {
          "output_type": "execute_result",
          "data": {
            "text/plain": [
              "array([ 1.,  4., 16., 16.,  4.])"
            ]
          },
          "metadata": {},
          "execution_count": 12
        }
      ]
    },
    {
      "cell_type": "code",
      "metadata": {
        "colab": {
          "base_uri": "https://localhost:8080/"
        },
        "id": "plws8E6bk_uG",
        "outputId": "30b3dff6-0a10-4ce9-8eb2-0b2fbfc15740"
      },
      "source": [
        "a = np.array([[1,4],[9,16]], float)\n",
        "a[b]"
      ],
      "execution_count": null,
      "outputs": [
        {
          "output_type": "execute_result",
          "data": {
            "text/plain": [
              "array([[ 1.,  4.],\n",
              "       [ 1.,  4.],\n",
              "       [ 9., 16.],\n",
              "       [ 9., 16.],\n",
              "       [ 1.,  4.]])"
            ]
          },
          "metadata": {},
          "execution_count": 13
        }
      ]
    }
  ]
}