{
  "nbformat": 4,
  "nbformat_minor": 0,
  "metadata": {
    "colab": {
      "name": "6_numpy_operations.ipynb",
      "provenance": [],
      "collapsed_sections": [],
      "authorship_tag": "ABX9TyOaZq72TI9fAjLs9CJwu1CU",
      "include_colab_link": true
    },
    "kernelspec": {
      "name": "python3",
      "display_name": "Python 3"
    },
    "language_info": {
      "name": "python"
    }
  },
  "cells": [
    {
      "cell_type": "markdown",
      "metadata": {
        "id": "view-in-github",
        "colab_type": "text"
      },
      "source": [
        "<a href=\"https://colab.research.google.com/github/cownow4425/Python-for-AI/blob/master/Numpy/6_numpy_operations.ipynb\" target=\"_parent\"><img src=\"https://colab.research.google.com/assets/colab-badge.svg\" alt=\"Open In Colab\"/></a>"
      ]
    },
    {
      "cell_type": "code",
      "metadata": {
        "id": "Jsh7spUEHdBC"
      },
      "source": [
        "import numpy as np"
      ],
      "execution_count": null,
      "outputs": []
    },
    {
      "cell_type": "markdown",
      "metadata": {
        "id": "P6tt9wsbHgC7"
      },
      "source": [
        "Array operations"
      ]
    },
    {
      "cell_type": "code",
      "metadata": {
        "id": "-vprgLdPHyAj"
      },
      "source": [
        "test_a = np.array([[1,2,3],[4,5,6]], float)"
      ],
      "execution_count": null,
      "outputs": []
    },
    {
      "cell_type": "code",
      "metadata": {
        "colab": {
          "base_uri": "https://localhost:8080/"
        },
        "id": "IZSBkS3vH6Zj",
        "outputId": "49665abf-b0e0-4cbb-c009-29ab1ebb67d0"
      },
      "source": [
        "test_a"
      ],
      "execution_count": null,
      "outputs": [
        {
          "output_type": "execute_result",
          "data": {
            "text/plain": [
              "array([[1., 2., 3.],\n",
              "       [4., 5., 6.]])"
            ]
          },
          "metadata": {},
          "execution_count": 3
        }
      ]
    },
    {
      "cell_type": "code",
      "metadata": {
        "colab": {
          "base_uri": "https://localhost:8080/"
        },
        "id": "UkZN_OdFH8A3",
        "outputId": "0f27b11a-a91f-4475-a3bc-fd00544506df"
      },
      "source": [
        "test_a + test_a #Matrix + Matrix 연산"
      ],
      "execution_count": null,
      "outputs": [
        {
          "output_type": "execute_result",
          "data": {
            "text/plain": [
              "array([[ 2.,  4.,  6.],\n",
              "       [ 8., 10., 12.]])"
            ]
          },
          "metadata": {},
          "execution_count": 5
        }
      ]
    },
    {
      "cell_type": "code",
      "metadata": {
        "colab": {
          "base_uri": "https://localhost:8080/"
        },
        "id": "CnqZ2gnfIAgR",
        "outputId": "bb3e6dfc-e064-43ca-bcb0-e02ae59dbf06"
      },
      "source": [
        "test_a - test_a #Matrix - Matrix 연산"
      ],
      "execution_count": null,
      "outputs": [
        {
          "output_type": "execute_result",
          "data": {
            "text/plain": [
              "array([[0., 0., 0.],\n",
              "       [0., 0., 0.]])"
            ]
          },
          "metadata": {},
          "execution_count": 6
        }
      ]
    },
    {
      "cell_type": "code",
      "metadata": {
        "colab": {
          "base_uri": "https://localhost:8080/"
        },
        "id": "k0-OBVVDIF2I",
        "outputId": "d8797626-0b9d-4ecc-94b6-887885ce6c17"
      },
      "source": [
        "test_a * test_a #Matrix 내 element들 간 같은 위치에 있는 값들끼리 연산(Element-wise operation)"
      ],
      "execution_count": null,
      "outputs": [
        {
          "output_type": "execute_result",
          "data": {
            "text/plain": [
              "array([[ 1.,  4.,  9.],\n",
              "       [16., 25., 36.]])"
            ]
          },
          "metadata": {},
          "execution_count": 7
        }
      ]
    },
    {
      "cell_type": "code",
      "metadata": {
        "id": "OcfSu47wIthN"
      },
      "source": [
        "matrix_a = np.arange(1, 13).reshape(3, 4)"
      ],
      "execution_count": null,
      "outputs": []
    },
    {
      "cell_type": "code",
      "metadata": {
        "colab": {
          "base_uri": "https://localhost:8080/"
        },
        "id": "Xr1pUzULIzvN",
        "outputId": "d6c1a726-71f8-4f2c-d57a-716939e0597b"
      },
      "source": [
        "matrix_a - matrix_a"
      ],
      "execution_count": null,
      "outputs": [
        {
          "output_type": "execute_result",
          "data": {
            "text/plain": [
              "array([[0, 0, 0, 0],\n",
              "       [0, 0, 0, 0],\n",
              "       [0, 0, 0, 0]])"
            ]
          },
          "metadata": {},
          "execution_count": 9
        }
      ]
    },
    {
      "cell_type": "markdown",
      "metadata": {
        "id": "CD-3j9dvI26_"
      },
      "source": [
        "dot product"
      ]
    },
    {
      "cell_type": "code",
      "metadata": {
        "id": "7Civ-3kqI5T3"
      },
      "source": [
        "test_a = np.arange(1, 7).reshape(2, 3)\n",
        "test_b = np.arange(7, 13).reshape(3,2)"
      ],
      "execution_count": null,
      "outputs": []
    },
    {
      "cell_type": "code",
      "metadata": {
        "colab": {
          "base_uri": "https://localhost:8080/"
        },
        "id": "KpzmhCScJJT8",
        "outputId": "3102431b-6c21-4748-a395-ce3ec3e9b7bc"
      },
      "source": [
        "test_a"
      ],
      "execution_count": null,
      "outputs": [
        {
          "output_type": "execute_result",
          "data": {
            "text/plain": [
              "array([[1, 2, 3],\n",
              "       [4, 5, 6]])"
            ]
          },
          "metadata": {},
          "execution_count": 11
        }
      ]
    },
    {
      "cell_type": "code",
      "metadata": {
        "colab": {
          "base_uri": "https://localhost:8080/"
        },
        "id": "wKCnrzW5JJ8u",
        "outputId": "691e9722-a4d1-469c-8f56-084c0231f185"
      },
      "source": [
        "test_b"
      ],
      "execution_count": null,
      "outputs": [
        {
          "output_type": "execute_result",
          "data": {
            "text/plain": [
              "array([[ 7,  8],\n",
              "       [ 9, 10],\n",
              "       [11, 12]])"
            ]
          },
          "metadata": {},
          "execution_count": 12
        }
      ]
    },
    {
      "cell_type": "code",
      "metadata": {
        "colab": {
          "base_uri": "https://localhost:8080/"
        },
        "id": "AJwtgmHyJKeg",
        "outputId": "c750fde4-c565-43bc-8f93-925758743de4"
      },
      "source": [
        "test_a.dot(test_b)"
      ],
      "execution_count": null,
      "outputs": [
        {
          "output_type": "execute_result",
          "data": {
            "text/plain": [
              "array([[ 58,  64],\n",
              "       [139, 154]])"
            ]
          },
          "metadata": {},
          "execution_count": 13
        }
      ]
    },
    {
      "cell_type": "code",
      "metadata": {
        "id": "fJmImMavJND7"
      },
      "source": [
        "test_a = np.arange(1, 7).reshape(2,3)"
      ],
      "execution_count": null,
      "outputs": []
    },
    {
      "cell_type": "code",
      "metadata": {
        "colab": {
          "base_uri": "https://localhost:8080/"
        },
        "id": "ILMdB7BMJS8w",
        "outputId": "fadbf81c-c335-43a3-8149-826a1187a8d8"
      },
      "source": [
        "test_a"
      ],
      "execution_count": null,
      "outputs": [
        {
          "output_type": "execute_result",
          "data": {
            "text/plain": [
              "array([[1, 2, 3],\n",
              "       [4, 5, 6]])"
            ]
          },
          "metadata": {},
          "execution_count": 15
        }
      ]
    },
    {
      "cell_type": "code",
      "metadata": {
        "colab": {
          "base_uri": "https://localhost:8080/"
        },
        "id": "HyMeT01IJTxN",
        "outputId": "6ae542c9-e4ae-4473-97d6-91cbfee28d78"
      },
      "source": [
        "test_a.T"
      ],
      "execution_count": null,
      "outputs": [
        {
          "output_type": "execute_result",
          "data": {
            "text/plain": [
              "array([[1, 4],\n",
              "       [2, 5],\n",
              "       [3, 6]])"
            ]
          },
          "metadata": {},
          "execution_count": 17
        }
      ]
    },
    {
      "cell_type": "code",
      "metadata": {
        "colab": {
          "base_uri": "https://localhost:8080/"
        },
        "id": "DHA8fTPGJaEO",
        "outputId": "e44b099d-50e4-431e-f9c6-d573fe4298ea"
      },
      "source": [
        "test_a.T.dot(test_a)"
      ],
      "execution_count": null,
      "outputs": [
        {
          "output_type": "execute_result",
          "data": {
            "text/plain": [
              "array([[17, 22, 27],\n",
              "       [22, 29, 36],\n",
              "       [27, 36, 45]])"
            ]
          },
          "metadata": {},
          "execution_count": 18
        }
      ]
    },
    {
      "cell_type": "markdown",
      "metadata": {
        "id": "TTEhICKXJdrO"
      },
      "source": [
        "broadcasting"
      ]
    },
    {
      "cell_type": "code",
      "metadata": {
        "id": "JykiIdB0JmYm"
      },
      "source": [
        "test_matrix = np.array([[1,2,3],[4,5,6]], float)\n",
        "scalar = 3"
      ],
      "execution_count": null,
      "outputs": []
    },
    {
      "cell_type": "code",
      "metadata": {
        "colab": {
          "base_uri": "https://localhost:8080/"
        },
        "id": "Bn1OhKztJtTQ",
        "outputId": "7af5718d-4a1d-423d-c574-a1090dfa4b8f"
      },
      "source": [
        "test_matrix"
      ],
      "execution_count": null,
      "outputs": [
        {
          "output_type": "execute_result",
          "data": {
            "text/plain": [
              "array([[1., 2., 3.],\n",
              "       [4., 5., 6.]])"
            ]
          },
          "metadata": {},
          "execution_count": 20
        }
      ]
    },
    {
      "cell_type": "code",
      "metadata": {
        "colab": {
          "base_uri": "https://localhost:8080/"
        },
        "id": "JBusoME2J_SQ",
        "outputId": "9c6b591c-d036-4ad3-d7de-c2eada875aca"
      },
      "source": [
        "test_matrix + scalar"
      ],
      "execution_count": null,
      "outputs": [
        {
          "output_type": "execute_result",
          "data": {
            "text/plain": [
              "array([[4., 5., 6.],\n",
              "       [7., 8., 9.]])"
            ]
          },
          "metadata": {},
          "execution_count": 24
        }
      ]
    },
    {
      "cell_type": "code",
      "metadata": {
        "colab": {
          "base_uri": "https://localhost:8080/"
        },
        "id": "X5sVXM1CKCc8",
        "outputId": "3e24945d-87ed-499f-eb7b-5e0df9e25a14"
      },
      "source": [
        "test_matrix - scalar"
      ],
      "execution_count": null,
      "outputs": [
        {
          "output_type": "execute_result",
          "data": {
            "text/plain": [
              "array([[-2., -1.,  0.],\n",
              "       [ 1.,  2.,  3.]])"
            ]
          },
          "metadata": {},
          "execution_count": 25
        }
      ]
    },
    {
      "cell_type": "code",
      "metadata": {
        "colab": {
          "base_uri": "https://localhost:8080/"
        },
        "id": "49IRr7kzKIKN",
        "outputId": "c071b590-2b6d-465c-fd0e-8513834ecec9"
      },
      "source": [
        "test_matrix * 5"
      ],
      "execution_count": null,
      "outputs": [
        {
          "output_type": "execute_result",
          "data": {
            "text/plain": [
              "array([[ 5., 10., 15.],\n",
              "       [20., 25., 30.]])"
            ]
          },
          "metadata": {},
          "execution_count": 26
        }
      ]
    },
    {
      "cell_type": "code",
      "metadata": {
        "colab": {
          "base_uri": "https://localhost:8080/"
        },
        "id": "4_uCC7yLKK45",
        "outputId": "1ab32c73-ffa1-4ad9-8626-abacc8041d3f"
      },
      "source": [
        "test_matrix **2"
      ],
      "execution_count": null,
      "outputs": [
        {
          "output_type": "execute_result",
          "data": {
            "text/plain": [
              "array([[ 1.,  4.,  9.],\n",
              "       [16., 25., 36.]])"
            ]
          },
          "metadata": {},
          "execution_count": 27
        }
      ]
    },
    {
      "cell_type": "code",
      "metadata": {
        "id": "317h0sdnKPNq"
      },
      "source": [
        "test_matrix = np.arange(1, 13).reshape(4, 3)\n",
        "test_vector = np.arange(10, 40, 10)"
      ],
      "execution_count": null,
      "outputs": []
    },
    {
      "cell_type": "code",
      "metadata": {
        "colab": {
          "base_uri": "https://localhost:8080/"
        },
        "id": "qNhlWKDKKYYp",
        "outputId": "32a68252-2335-4f3f-ce3f-ebc55ffc8a4a"
      },
      "source": [
        "test_vector"
      ],
      "execution_count": null,
      "outputs": [
        {
          "output_type": "execute_result",
          "data": {
            "text/plain": [
              "array([10, 20, 30])"
            ]
          },
          "metadata": {},
          "execution_count": 29
        }
      ]
    },
    {
      "cell_type": "code",
      "metadata": {
        "colab": {
          "base_uri": "https://localhost:8080/"
        },
        "id": "OqPfQ6qQKZpH",
        "outputId": "7fcbb1c8-4916-4b64-c86a-4dbf73a6c8f4"
      },
      "source": [
        "test_vector.reshape(-1, 3).T + test_vector"
      ],
      "execution_count": null,
      "outputs": [
        {
          "output_type": "execute_result",
          "data": {
            "text/plain": [
              "array([[20, 30, 40],\n",
              "       [30, 40, 50],\n",
              "       [40, 50, 60]])"
            ]
          },
          "metadata": {},
          "execution_count": 30
        }
      ]
    },
    {
      "cell_type": "code",
      "metadata": {
        "colab": {
          "base_uri": "https://localhost:8080/"
        },
        "id": "MubZ2jRsKlWl",
        "outputId": "f6170383-e2ea-43a4-88bf-3c445b55e647"
      },
      "source": [
        "test_matrix + test_vector"
      ],
      "execution_count": null,
      "outputs": [
        {
          "output_type": "execute_result",
          "data": {
            "text/plain": [
              "array([[11, 22, 33],\n",
              "       [14, 25, 36],\n",
              "       [17, 28, 39],\n",
              "       [20, 31, 42]])"
            ]
          },
          "metadata": {},
          "execution_count": 31
        }
      ]
    },
    {
      "cell_type": "markdown",
      "metadata": {
        "id": "pkGMJSSIKoib"
      },
      "source": [
        "numpy performance"
      ]
    },
    {
      "cell_type": "code",
      "metadata": {
        "colab": {
          "base_uri": "https://localhost:8080/"
        },
        "id": "qgSRnW5-KsMs",
        "outputId": "ab933b33-5cd0-4ecd-89d5-8164b2748090"
      },
      "source": [
        "def scalar_vector_product(scalar, vector):\n",
        "  result=[]\n",
        "  for value in vector:\n",
        "    result.append(scalar * value)\n",
        "  return result\n",
        "\n",
        "iternation_max = 100000000\n",
        "\n",
        "vector = list(range(iternation_max))\n",
        "scalar = 2\n",
        "\n",
        "%timeit scalar_vector_product(scalar, vector) #for loop을 이용한 성능"
      ],
      "execution_count": null,
      "outputs": [
        {
          "output_type": "stream",
          "name": "stdout",
          "text": [
            "1 loop, best of 5: 13.3 s per loop\n"
          ]
        }
      ]
    },
    {
      "cell_type": "code",
      "metadata": {
        "colab": {
          "base_uri": "https://localhost:8080/"
        },
        "id": "evbO-NQCLSgw",
        "outputId": "5b9eadce-f10e-41c7-9928-775dce9edc9c"
      },
      "source": [
        "%timeit [scalar * value for value in range(iternation_max)] #list comprehension을 이용한 성능"
      ],
      "execution_count": null,
      "outputs": [
        {
          "output_type": "stream",
          "name": "stdout",
          "text": [
            "1 loop, best of 5: 11 s per loop\n"
          ]
        }
      ]
    },
    {
      "cell_type": "code",
      "metadata": {
        "colab": {
          "base_uri": "https://localhost:8080/"
        },
        "id": "D9f54ZopLck9",
        "outputId": "43762e56-c0f2-4695-97fa-7f2e5829ad38"
      },
      "source": [
        "%timeit np.arange(iternation_max) * scalar #numpy를 이용한 성능"
      ],
      "execution_count": null,
      "outputs": [
        {
          "output_type": "stream",
          "name": "stdout",
          "text": [
            "1 loop, best of 5: 283 ms per loop\n"
          ]
        }
      ]
    }
  ]
}