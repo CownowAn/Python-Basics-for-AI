{
  "nbformat": 4,
  "nbformat_minor": 0,
  "metadata": {
    "colab": {
      "name": "9_numpy_data_io.ipynb",
      "provenance": [],
      "collapsed_sections": [],
      "authorship_tag": "ABX9TyPk1K33l19autyRA8Troq9E",
      "include_colab_link": true
    },
    "kernelspec": {
      "name": "python3",
      "display_name": "Python 3"
    },
    "language_info": {
      "name": "python"
    }
  },
  "cells": [
    {
      "cell_type": "markdown",
      "metadata": {
        "id": "view-in-github",
        "colab_type": "text"
      },
      "source": [
        "<a href=\"https://colab.research.google.com/github/cownow4425/Python-for-AI/blob/master/Numpy/9_numpy_data_io.ipynb\" target=\"_parent\"><img src=\"https://colab.research.google.com/assets/colab-badge.svg\" alt=\"Open In Colab\"/></a>"
      ]
    },
    {
      "cell_type": "code",
      "metadata": {
        "id": "-qMdhMcIlmcb"
      },
      "source": [
        "import numpy as np"
      ],
      "execution_count": null,
      "outputs": []
    },
    {
      "cell_type": "markdown",
      "metadata": {
        "id": "rhzSb0TEltUg"
      },
      "source": [
        "load txt"
      ]
    },
    {
      "cell_type": "code",
      "metadata": {
        "id": "nzZxsfjTlvKS"
      },
      "source": [
        "a = np.loadtxt(\"./populations.txt\", delimeter=\"\\t\")\n",
        "a"
      ],
      "execution_count": null,
      "outputs": []
    },
    {
      "cell_type": "code",
      "metadata": {
        "id": "u8Uk43Ddl2mZ"
      },
      "source": [
        "a_int = a.astype(int)\n",
        "a_int_3 = a_int[:3]"
      ],
      "execution_count": null,
      "outputs": []
    },
    {
      "cell_type": "code",
      "metadata": {
        "id": "0wO7AQ36l-44"
      },
      "source": [
        "np.savetxt(\"int_data_2.csv\", a_int_3, fmt=\"%.2e\", delimeter=\",\")"
      ],
      "execution_count": null,
      "outputs": []
    },
    {
      "cell_type": "markdown",
      "metadata": {
        "id": "3_5XsF7XmKH2"
      },
      "source": [
        "numpy object - npy"
      ]
    },
    {
      "cell_type": "code",
      "metadata": {
        "id": "KEmHqxPTmNsA"
      },
      "source": [
        "np.save(\"npy_test_object\", arr=a_int_3) #pickle 형태로 저장\n",
        "a_test = np.load(file=\"npy_test_object.npy\")"
      ],
      "execution_count": null,
      "outputs": []
    },
    {
      "cell_type": "code",
      "metadata": {
        "id": "j-4a3iiunNCf"
      },
      "source": [
        "npy_array = np.load(file=\"npy_test.npy\")"
      ],
      "execution_count": null,
      "outputs": []
    }
  ]
}