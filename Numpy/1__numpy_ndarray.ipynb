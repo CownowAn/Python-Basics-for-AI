{
  "nbformat": 4,
  "nbformat_minor": 0,
  "metadata": {
    "colab": {
      "name": "1_ numpy_ndarray.ipynb",
      "provenance": [],
      "collapsed_sections": [],
      "authorship_tag": "ABX9TyP6vf2NjcElZv+8PckgRwXg",
      "include_colab_link": true
    },
    "kernelspec": {
      "name": "python3",
      "display_name": "Python 3"
    },
    "language_info": {
      "name": "python"
    }
  },
  "cells": [
    {
      "cell_type": "markdown",
      "metadata": {
        "id": "view-in-github",
        "colab_type": "text"
      },
      "source": [
        "<a href=\"https://colab.research.google.com/github/cownow4425/Python-for-AI/blob/master/Numpy/1__numpy_ndarray.ipynb\" target=\"_parent\"><img src=\"https://colab.research.google.com/assets/colab-badge.svg\" alt=\"Open In Colab\"/></a>"
      ]
    },
    {
      "cell_type": "code",
      "metadata": {
        "id": "5n4kngj5qHJ8"
      },
      "source": [
        "import numpy as np"
      ],
      "execution_count": null,
      "outputs": []
    },
    {
      "cell_type": "markdown",
      "metadata": {
        "id": "jJVBCYDWqS_A"
      },
      "source": [
        "array의 생성"
      ]
    },
    {
      "cell_type": "code",
      "metadata": {
        "id": "qfS-lu2lqQ7o"
      },
      "source": [
        "a = [1,2,3,4,5]\n",
        "b = [5,4,3,2,1]"
      ],
      "execution_count": null,
      "outputs": []
    },
    {
      "cell_type": "code",
      "metadata": {
        "colab": {
          "base_uri": "https://localhost:8080/"
        },
        "id": "CYq8dua0qZie",
        "outputId": "1ee25777-94ef-43a8-fa92-49b886fb19db"
      },
      "source": [
        "a = np.array(a, int)\n",
        "a"
      ],
      "execution_count": null,
      "outputs": [
        {
          "output_type": "execute_result",
          "data": {
            "text/plain": [
              "array([1, 2, 3, 4, 5])"
            ]
          },
          "metadata": {},
          "execution_count": 5
        }
      ]
    },
    {
      "cell_type": "code",
      "metadata": {
        "colab": {
          "base_uri": "https://localhost:8080/"
        },
        "id": "DPbtZniWqbkN",
        "outputId": "09e7fd76-bcde-4861-8c02-85d8bb3b91c9"
      },
      "source": [
        "test_array = np.array([\"1\",\"4\",5,8], float)\n",
        "test_array"
      ],
      "execution_count": null,
      "outputs": [
        {
          "output_type": "execute_result",
          "data": {
            "text/plain": [
              "array([1., 4., 5., 8.])"
            ]
          },
          "metadata": {},
          "execution_count": 6
        }
      ]
    },
    {
      "cell_type": "code",
      "metadata": {
        "colab": {
          "base_uri": "https://localhost:8080/"
        },
        "id": "R8nL2i_oqtzG",
        "outputId": "09e0b3e2-98fc-4b1c-d1a6-dd07a9559a12"
      },
      "source": [
        "a = [1,2,3,4,5]\n",
        "b = [5,4,3,2,1]\n",
        "a[0] is b[-1] #is는 메모리 위치를 비교하는 것"
      ],
      "execution_count": null,
      "outputs": [
        {
          "output_type": "execute_result",
          "data": {
            "text/plain": [
              "True"
            ]
          },
          "metadata": {},
          "execution_count": 7
        }
      ]
    },
    {
      "cell_type": "code",
      "metadata": {
        "colab": {
          "base_uri": "https://localhost:8080/"
        },
        "id": "f0exYN9xsFFS",
        "outputId": "0b3bfc53-cd58-4fad-c941-4f3bc55211c0"
      },
      "source": [
        "a = np.array(a)\n",
        "b = np.array(b)\n",
        "a[0] is b[-1]"
      ],
      "execution_count": null,
      "outputs": [
        {
          "output_type": "execute_result",
          "data": {
            "text/plain": [
              "False"
            ]
          },
          "metadata": {},
          "execution_count": 8
        }
      ]
    },
    {
      "cell_type": "code",
      "metadata": {
        "colab": {
          "base_uri": "https://localhost:8080/"
        },
        "id": "j2qI1HrEubMD",
        "outputId": "ff0ddc90-d432-4fb7-d94b-54bd35edbc70"
      },
      "source": [
        "test_array.dtype"
      ],
      "execution_count": null,
      "outputs": [
        {
          "output_type": "execute_result",
          "data": {
            "text/plain": [
              "dtype('float64')"
            ]
          },
          "metadata": {},
          "execution_count": 9
        }
      ]
    },
    {
      "cell_type": "markdown",
      "metadata": {
        "id": "sBUMA7FPu9KU"
      },
      "source": [
        "array shape"
      ]
    },
    {
      "cell_type": "code",
      "metadata": {
        "colab": {
          "base_uri": "https://localhost:8080/"
        },
        "id": "nLlHSADOvNrj",
        "outputId": "76ca12b2-7b34-49b9-f8d9-1f300c5bbccb"
      },
      "source": [
        "vector = [1,2,3,4]\n",
        "np.array(vector, int).shape"
      ],
      "execution_count": null,
      "outputs": [
        {
          "output_type": "execute_result",
          "data": {
            "text/plain": [
              "(4,)"
            ]
          },
          "metadata": {},
          "execution_count": 10
        }
      ]
    },
    {
      "cell_type": "code",
      "metadata": {
        "colab": {
          "base_uri": "https://localhost:8080/"
        },
        "id": "IPoeDuxjw7vQ",
        "outputId": "59c3d207-be04-4475-934d-70df2180831c"
      },
      "source": [
        "matrix = [[1,2,5,8], [1,2,5,8], [1,2,5,8]]\n",
        "np.array(matrix, int).shape"
      ],
      "execution_count": null,
      "outputs": [
        {
          "output_type": "execute_result",
          "data": {
            "text/plain": [
              "(3, 4)"
            ]
          },
          "metadata": {},
          "execution_count": 14
        }
      ]
    },
    {
      "cell_type": "code",
      "metadata": {
        "colab": {
          "base_uri": "https://localhost:8080/"
        },
        "id": "SWJuC2_hxFc6",
        "outputId": "ff94da84-2007-4777-d515-788d5153feee"
      },
      "source": [
        "tensor = [\n",
        "          [[1,2,5,8], [1,2,5,8], [1,2,5,8]],\n",
        "          [[1,2,5,8], [1,2,5,8], [1,2,5,8]],\n",
        "          [[1,2,5,8], [1,2,5,8], [1,2,5,8]],\n",
        "          [[1,2,5,8], [1,2,5,8], [1,2,5,8]]\n",
        "]\n",
        "np.array(tensor, int).shape"
      ],
      "execution_count": null,
      "outputs": [
        {
          "output_type": "execute_result",
          "data": {
            "text/plain": [
              "(4, 3, 4)"
            ]
          },
          "metadata": {},
          "execution_count": 15
        }
      ]
    },
    {
      "cell_type": "code",
      "metadata": {
        "colab": {
          "base_uri": "https://localhost:8080/"
        },
        "id": "B0EH4dHsxaFm",
        "outputId": "1dd76d55-8c7c-4190-82ae-78ad86b7c0ee"
      },
      "source": [
        "np.array(tensor, int).ndim"
      ],
      "execution_count": null,
      "outputs": [
        {
          "output_type": "execute_result",
          "data": {
            "text/plain": [
              "3"
            ]
          },
          "metadata": {},
          "execution_count": 16
        }
      ]
    },
    {
      "cell_type": "code",
      "metadata": {
        "colab": {
          "base_uri": "https://localhost:8080/"
        },
        "id": "L3vn4OEVxfbD",
        "outputId": "13af7bb2-82b6-4d70-a7c1-78097766286a"
      },
      "source": [
        "np.array(teor, int).size"
      ],
      "execution_count": null,
      "outputs": [
        {
          "output_type": "execute_result",
          "data": {
            "text/plain": [
              "48"
            ]
          },
          "metadata": {},
          "execution_count": 18
        }
      ]
    },
    {
      "cell_type": "markdown",
      "metadata": {
        "id": "V2M0xsaux5Ta"
      },
      "source": [
        "numpy dtype"
      ]
    },
    {
      "cell_type": "code",
      "metadata": {
        "id": "ErMJw5b1x86E"
      },
      "source": [
        "a = np.array([[1,2,3,], [4.5,5,6,]], dtype=np.int8)"
      ],
      "execution_count": null,
      "outputs": []
    },
    {
      "cell_type": "code",
      "metadata": {
        "colab": {
          "base_uri": "https://localhost:8080/"
        },
        "id": "i7F9UCWNyFrN",
        "outputId": "e281bdad-f51e-4ad8-fd34-5c80e943df9a"
      },
      "source": [
        "a.dtype"
      ],
      "execution_count": null,
      "outputs": [
        {
          "output_type": "execute_result",
          "data": {
            "text/plain": [
              "dtype('int8')"
            ]
          },
          "metadata": {},
          "execution_count": 20
        }
      ]
    },
    {
      "cell_type": "code",
      "metadata": {
        "colab": {
          "base_uri": "https://localhost:8080/"
        },
        "id": "yvKeCc0JyLmG",
        "outputId": "813feaa4-9455-4af9-c821-2dcd564a4b09"
      },
      "source": [
        "np.array([[1,2,3], [4.5,\"5\",\"6\"]], dtype=np.int8).nbytes"
      ],
      "execution_count": null,
      "outputs": [
        {
          "output_type": "execute_result",
          "data": {
            "text/plain": [
              "6"
            ]
          },
          "metadata": {},
          "execution_count": 23
        }
      ]
    },
    {
      "cell_type": "code",
      "metadata": {
        "colab": {
          "base_uri": "https://localhost:8080/"
        },
        "id": "L-_sMbRtyY6T",
        "outputId": "25210b49-9778-49ff-d687-84cb44072c94"
      },
      "source": [
        "np.array([[1,2,3], [4.5,\"5\",\"6\"]], dtype=np.float64).nbytes"
      ],
      "execution_count": null,
      "outputs": [
        {
          "output_type": "execute_result",
          "data": {
            "text/plain": [
              "48"
            ]
          },
          "metadata": {},
          "execution_count": 24
        }
      ]
    }
  ]
}